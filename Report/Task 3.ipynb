{
 "cells": [
  {
   "cell_type": "markdown",
   "metadata": {},
   "source": [
    "# Task 3"
   ]
  },
  {
   "cell_type": "code",
   "execution_count": 1,
   "metadata": {},
   "outputs": [],
   "source": [
    "import numpy as np\n",
    "import pandas as pd\n",
    "from time import time\n",
    "import matplotlib.pyplot as plt\n",
    "from sklearn.datasets import load_boston\n",
    "from sklearn.model_selection import train_test_split\n",
    "from sklearn.metrics import mean_squared_error\n",
    "\n",
    "%matplotlib inline"
   ]
  },
  {
   "cell_type": "code",
   "execution_count": 2,
   "metadata": {},
   "outputs": [],
   "source": [
    "# ensembles.py\n",
    "\n",
    "import numpy as np\n",
    "from sklearn.tree import DecisionTreeRegressor\n",
    "from scipy.optimize import minimize_scalar\n",
    "from joblib import Parallel, delayed\n",
    "\n",
    "\n",
    "def root_mean_squared_error(y_true, y_pred):\n",
    "    if len(y_pred.shape) == 1:\n",
    "        y_pred = y_pred[np.newaxis, :]\n",
    "    return np.sqrt(np.mean((y_pred - y_true) ** 2, axis=1))\n",
    "\n",
    "\n",
    "class RandomForestMSE:\n",
    "    def __init__(self, n_estimators, max_depth=None, feature_subsample_size=None,\n",
    "                 base_estimator=DecisionTreeRegressor, **trees_parameters):\n",
    "        \"\"\"\n",
    "        n_estimators : int\n",
    "            The number of trees in the forest.\n",
    "\n",
    "        max_depth : int\n",
    "            The maximum depth of the tree. If None then there is no limits.\n",
    "\n",
    "        feature_subsample_size : float\n",
    "            The size of feature set for each tree. If None then use recommendations.\n",
    "        \"\"\"\n",
    "        self.n_estimators = n_estimators\n",
    "        self.max_depth = max_depth\n",
    "        self.feature_subsample_size = feature_subsample_size\n",
    "        self.base_estimator = base_estimator\n",
    "        self.trees_parameters = trees_parameters\n",
    "\n",
    "    def fit(self, X, y, X_val=None, y_val=None):\n",
    "        \"\"\"\n",
    "        X : numpy ndarray\n",
    "            Array of size n_objects, n_features\n",
    "\n",
    "        y : numpy ndarray\n",
    "            Array of size n_objects\n",
    "\n",
    "        X_val : numpy ndarray\n",
    "            Array of size n_val_objects, n_features\n",
    "\n",
    "        y_val : numpy ndarray\n",
    "            Array of size n_val_objects\n",
    "        \"\"\"\n",
    "        if self.feature_subsample_size is None:\n",
    "            self.feature_subsample_size = np.ceil(X.shape[1] / 3).astype(np.int_)\n",
    "\n",
    "        self.estimators = Parallel(n_jobs=-1)(delayed(self._task)(X, y)\n",
    "                                              for _ in range(self.n_estimators))\n",
    "        train_loss = []\n",
    "        test_loss = []\n",
    "\n",
    "        y_pred = 0\n",
    "        y_pred_val = 0\n",
    "        for i, estimator in enumerate(self.estimators):\n",
    "            y_pred += estimator.predict(X)\n",
    "            train_loss.append(root_mean_squared_error(y, y_pred / (i + 1)))\n",
    "            if X_val is not None:\n",
    "                y_pred_val += estimator.predict(X_val)\n",
    "                test_loss.append(root_mean_squared_error(y_val, y_pred_val / (i + 1)))\n",
    "        return self, train_loss, test_loss\n",
    "\n",
    "    def _task(self, X, y):\n",
    "        estimator = self.base_estimator(max_depth=self.max_depth,\n",
    "                                        max_features=self.feature_subsample_size,\n",
    "                                        **self.trees_parameters)\n",
    "        idxs = np.random.randint(X.shape[0], size=X.shape[0])\n",
    "        return estimator.fit(X[idxs], y[idxs])\n",
    "\n",
    "    def predict(self, X, all=False):\n",
    "        \"\"\"\n",
    "        X : numpy ndarray\n",
    "            Array of size n_objects, n_features\n",
    "\n",
    "        Returns\n",
    "        -------\n",
    "        y : numpy ndarray\n",
    "            Array of size n_objects\n",
    "        \"\"\"\n",
    "        if all:\n",
    "            predictions = np.zeros((self.n_estimators, X.shape[0]))\n",
    "        prediction = np.zeros(X.shape[0])\n",
    "        for i, estimator in enumerate(self.estimators):\n",
    "            prediction += estimator.predict(X)\n",
    "            if all:\n",
    "                predictions[i] = prediction / (i + 1)\n",
    "        if all:\n",
    "            return predictions\n",
    "        return prediction / self.n_estimators\n",
    "\n",
    "\n",
    "class GradientBoostingMSE:\n",
    "    def __init__(self, n_estimators, learning_rate=0.1, max_depth=5, feature_subsample_size=None,\n",
    "                 base_estimator=DecisionTreeRegressor, **trees_parameters):\n",
    "        \"\"\"\n",
    "        n_estimators : int\n",
    "            The number of trees in the forest.\n",
    "\n",
    "        learning_rate : float\n",
    "            Use learning_rate * gamma instead of gamma\n",
    "        max_depth : int\n",
    "            The maximum depth of the tree. If None then there is no limits.\n",
    "\n",
    "        feature_subsample_size : float\n",
    "            The size of feature set for each tree. If None then use recommendations.\n",
    "        \"\"\"\n",
    "        self.n_estimators = n_estimators\n",
    "        self.learning_rate = learning_rate\n",
    "        self.max_depth = max_depth\n",
    "        self.feature_subsample_size = feature_subsample_size\n",
    "        self.base_estimator = base_estimator\n",
    "        self.trees_parameters = trees_parameters\n",
    "\n",
    "    def fit(self, X, y, X_val=None, y_val=None):\n",
    "        \"\"\"\n",
    "        X : numpy ndarray\n",
    "            Array of size n_objects, n_features\n",
    "\n",
    "        y : numpy ndarray\n",
    "            Array of size n_objects\n",
    "        \"\"\"\n",
    "        self.estimators = []\n",
    "        self.coefs = []\n",
    "        train_loss = []\n",
    "        test_loss = []\n",
    "        y_pred = np.zeros(X.shape[0])\n",
    "        if X_val is not None:\n",
    "            y_pred_val = np.zeros(X_val.shape[0])\n",
    "        if self.feature_subsample_size is None:\n",
    "            self.feature_subsample_size = np.ceil(X.shape[1] / 3).astype(np.int_)\n",
    "        for _ in range(self.n_estimators):\n",
    "            estimator = self.base_estimator(max_depth=self.max_depth,\n",
    "                                            max_features=self.feature_subsample_size,\n",
    "                                            **self.trees_parameters)\n",
    "            self.estimators.append(estimator.fit(X, 2 * (y - y_pred) / X.shape[0]))\n",
    "            prediction = self.estimators[-1].predict(X)\n",
    "            self.coefs.append(minimize_scalar(lambda x, y=y, h=y_pred, b=prediction:\n",
    "                                              ((y - h - x * b) ** 2).mean()).x)\n",
    "            y_pred += self.learning_rate * self.coefs[-1] * prediction\n",
    "            train_loss.append(root_mean_squared_error(y, y_pred))\n",
    "            if X_val is not None:\n",
    "                y_pred_val += self.learning_rate * self.coefs[-1] * self.estimators[-1].predict(X_val) \n",
    "                test_loss.append(root_mean_squared_error(y_val, y_pred_val))\n",
    "        return self, train_loss, test_loss\n",
    "\n",
    "    def predict(self, X, all=False):\n",
    "        \"\"\"\n",
    "        X : numpy ndarray\n",
    "            Array of size n_objects, n_features\n",
    "\n",
    "        Returns\n",
    "        -------\n",
    "        y : numpy ndarray\n",
    "            Array of size n_objects\n",
    "        \"\"\"\n",
    "        if all:\n",
    "            predictions = np.zeros((self.n_estimators, X.shape[0]))\n",
    "        prediction = np.zeros(X.shape[0])\n",
    "        for i in range(len(self.estimators)):\n",
    "            prediction += self.coefs[i] * self.estimators[i].predict(X)\n",
    "            if all:\n",
    "                predictions[i] = prediction\n",
    "        if all:\n",
    "            return self.learning_rate * predictions\n",
    "        return self.learning_rate * prediction\n"
   ]
  },
  {
   "cell_type": "code",
   "execution_count": 3,
   "metadata": {},
   "outputs": [],
   "source": [
    "def plot_results(train_loss, test_loss, path=None):\n",
    "    fig = plt.figure(figsize=(20, 10))\n",
    "\n",
    "    x = np.arange(len(train_loss))\n",
    "    plt.plot(x, train_loss, label='Train', c='royalblue', linewidth=3, alpha=0.8)\n",
    "    if len(test_loss) > 0:\n",
    "        plt.plot(x, test_loss, label='Test', c='crimson', linewidth=3, alpha=0.8)\n",
    "\n",
    "    plt.xlabel('Iteration', fontsize=17)\n",
    "    plt.ylabel('RMSE',  fontsize=17)\n",
    "    plt.title('RMSE to Iteration',  fontsize=25)\n",
    "    plt.legend(fontsize=13)\n",
    "    plt.grid(True)\n",
    "    \n",
    "    if path is not None:\n",
    "        plt.savefig(path)\n",
    "    \n",
    "    if len(test_loss) > 0:\n",
    "        best_iter = np.argmin(test_loss)\n",
    "        return test_loss[best_iter], train_loss[best_iter], best_iter\n",
    "    best_iter = np.argmin(train_loss)\n",
    "    return train_loss[best_iter], best_iter\n"
   ]
  },
  {
   "cell_type": "markdown",
   "metadata": {},
   "source": [
    "## Light Test"
   ]
  },
  {
   "cell_type": "code",
   "execution_count": 4,
   "metadata": {},
   "outputs": [
    {
     "name": "stderr",
     "output_type": "stream",
     "text": [
      "C:\\Users\\miracle\\anaconda3\\lib\\site-packages\\sklearn\\utils\\validation.py:67: FutureWarning: Pass return_X_y=True as keyword args. From version 0.25 passing these as positional arguments will result in an error\n",
      "  warnings.warn(\"Pass {} as keyword args. From version 0.25 \"\n"
     ]
    }
   ],
   "source": [
    "X, y = load_boston(True)"
   ]
  },
  {
   "cell_type": "code",
   "execution_count": 5,
   "metadata": {},
   "outputs": [],
   "source": [
    "X_train, X_test, y_train, y_test = train_test_split(\n",
    "    X, y, test_size=0.33, random_state=317)"
   ]
  },
  {
   "cell_type": "code",
   "execution_count": 6,
   "metadata": {},
   "outputs": [],
   "source": [
    "model, train_loss, test_loss = RandomForestMSE(10000, 30).fit(X_train, y_train, X_test, y_test)"
   ]
  },
  {
   "cell_type": "code",
   "execution_count": 7,
   "metadata": {},
   "outputs": [
    {
     "data": {
      "text/plain": [
       "(array([3.12990644]), array([1.28004506]), 150)"
      ]
     },
     "execution_count": 7,
     "metadata": {},
     "output_type": "execute_result"
    },
    {
     "data": {
      "image/png": "[encoded data removed]",
      "text/plain": [
       "<Figure size 1440x720 with 1 Axes>"
      ]
     },
     "metadata": {
      "needs_background": "light"
     },
     "output_type": "display_data"
    }
   ],
   "source": [
    "plot_results(train_loss, test_loss)"
   ]
  },
  {
   "cell_type": "code",
   "execution_count": 8,
   "metadata": {},
   "outputs": [],
   "source": [
    "model, train_loss, test_loss = GradientBoostingMSE(10000, max_depth=6).fit(X_train, y_train, X_test, y_test)"
   ]
  },
  {
   "cell_type": "code",
   "execution_count": 9,
   "metadata": {},
   "outputs": [
    {
     "data": {
      "text/plain": [
       "(array([3.07401413]), array([0.13848805]), 106)"
      ]
     },
     "execution_count": 9,
     "metadata": {},
     "output_type": "execute_result"
    },
    {
     "data": {
      "image/png": "[encoded data removed]",
      "text/plain": [
       "<Figure size 1440x720 with 1 Axes>"
      ]
     },
     "metadata": {
      "needs_background": "light"
     },
     "output_type": "display_data"
    }
   ],
   "source": [
    "plot_results(train_loss, test_loss)"
   ]
  },
  {
   "cell_type": "code",
   "execution_count": 10,
   "metadata": {},
   "outputs": [
    {
     "data": {
      "text/plain": [
       "(array([1.25299485e-14]), array([3.07865089]))"
      ]
     },
     "execution_count": 10,
     "metadata": {},
     "output_type": "execute_result"
    }
   ],
   "source": [
    "train_loss[-1], test_loss[-1]"
   ]
  },
  {
   "cell_type": "markdown",
   "metadata": {},
   "source": [
    "Check:"
   ]
  },
  {
   "cell_type": "code",
   "execution_count": 11,
   "metadata": {},
   "outputs": [],
   "source": [
    "tmp = GradientBoostingMSE(1000)\n",
    "_, train_loss, test_loss = tmp.fit(X_train, y_train, X_test, y_test)"
   ]
  },
  {
   "cell_type": "code",
   "execution_count": 12,
   "metadata": {},
   "outputs": [
    {
     "data": {
      "text/plain": [
       "array([3.03729236])"
      ]
     },
     "execution_count": 12,
     "metadata": {},
     "output_type": "execute_result"
    }
   ],
   "source": [
    "root_mean_squared_error(y_test, tmp.predict(X_test))"
   ]
  },
  {
   "cell_type": "code",
   "execution_count": 13,
   "metadata": {},
   "outputs": [
    {
     "data": {
      "text/plain": [
       "array([3.03729236])"
      ]
     },
     "execution_count": 13,
     "metadata": {},
     "output_type": "execute_result"
    }
   ],
   "source": [
    "test_loss[-1]"
   ]
  },
  {
   "cell_type": "markdown",
   "metadata": {},
   "source": [
    "##  Main Part"
   ]
  },
  {
   "cell_type": "code",
   "execution_count": 14,
   "metadata": {},
   "outputs": [],
   "source": [
    "df = pd.read_csv('train_data.csv')\n",
    "df.drop(['index', 'id'], axis=1, inplace=True)\n",
    "df.date = pd.to_datetime(df.date).apply(lambda x:\n",
    "                                        (x - pd.Timestamp(2010, 1, 1)).days)\n",
    "new_features = pd.get_dummies(df.bedrooms_number)\n",
    "df[new_features.columns] = new_features\n",
    "df.drop('bedrooms_number', axis=1, inplace=True)"
   ]
  },
  {
   "cell_type": "code",
   "execution_count": 15,
   "metadata": {},
   "outputs": [
    {
     "data": {
      "text/html": [
       "<div>\n",
       "<style scoped>\n",
       "    .dataframe tbody tr th:only-of-type {\n",
       "        vertical-align: middle;\n",
       "    }\n",
       "\n",
       "    .dataframe tbody tr th {\n",
       "        vertical-align: top;\n",
       "    }\n",
       "\n",
       "    .dataframe thead th {\n",
       "        text-align: right;\n",
       "    }\n",
       "</style>\n",
       "<table border=\"1\" class=\"dataframe\">\n",
       "  <thead>\n",
       "    <tr style=\"text-align: right;\">\n",
       "      <th></th>\n",
       "      <th>date</th>\n",
       "      <th>batchrooms_number</th>\n",
       "      <th>square_footage_home</th>\n",
       "      <th>square_footage_lot</th>\n",
       "      <th>floors_number</th>\n",
       "      <th>has_waterfront</th>\n",
       "      <th>has_been_viewed</th>\n",
       "      <th>condition_quality</th>\n",
       "      <th>housing_unity_grade</th>\n",
       "      <th>square_footage_except_basement</th>\n",
       "      <th>...</th>\n",
       "      <th>3</th>\n",
       "      <th>4</th>\n",
       "      <th>5</th>\n",
       "      <th>6</th>\n",
       "      <th>7</th>\n",
       "      <th>8</th>\n",
       "      <th>9</th>\n",
       "      <th>10</th>\n",
       "      <th>11</th>\n",
       "      <th>33</th>\n",
       "    </tr>\n",
       "  </thead>\n",
       "  <tbody>\n",
       "    <tr>\n",
       "      <th>0</th>\n",
       "      <td>1582</td>\n",
       "      <td>2.00</td>\n",
       "      <td>1350</td>\n",
       "      <td>2560</td>\n",
       "      <td>1.0</td>\n",
       "      <td>0</td>\n",
       "      <td>0</td>\n",
       "      <td>3</td>\n",
       "      <td>8</td>\n",
       "      <td>1350</td>\n",
       "      <td>...</td>\n",
       "      <td>0</td>\n",
       "      <td>0</td>\n",
       "      <td>0</td>\n",
       "      <td>0</td>\n",
       "      <td>0</td>\n",
       "      <td>0</td>\n",
       "      <td>0</td>\n",
       "      <td>0</td>\n",
       "      <td>0</td>\n",
       "      <td>0</td>\n",
       "    </tr>\n",
       "    <tr>\n",
       "      <th>1</th>\n",
       "      <td>1582</td>\n",
       "      <td>1.75</td>\n",
       "      <td>1800</td>\n",
       "      <td>23103</td>\n",
       "      <td>1.0</td>\n",
       "      <td>0</td>\n",
       "      <td>0</td>\n",
       "      <td>3</td>\n",
       "      <td>7</td>\n",
       "      <td>1800</td>\n",
       "      <td>...</td>\n",
       "      <td>1</td>\n",
       "      <td>0</td>\n",
       "      <td>0</td>\n",
       "      <td>0</td>\n",
       "      <td>0</td>\n",
       "      <td>0</td>\n",
       "      <td>0</td>\n",
       "      <td>0</td>\n",
       "      <td>0</td>\n",
       "      <td>0</td>\n",
       "    </tr>\n",
       "    <tr>\n",
       "      <th>2</th>\n",
       "      <td>1582</td>\n",
       "      <td>1.75</td>\n",
       "      <td>2240</td>\n",
       "      <td>10578</td>\n",
       "      <td>2.0</td>\n",
       "      <td>0</td>\n",
       "      <td>0</td>\n",
       "      <td>5</td>\n",
       "      <td>8</td>\n",
       "      <td>1550</td>\n",
       "      <td>...</td>\n",
       "      <td>1</td>\n",
       "      <td>0</td>\n",
       "      <td>0</td>\n",
       "      <td>0</td>\n",
       "      <td>0</td>\n",
       "      <td>0</td>\n",
       "      <td>0</td>\n",
       "      <td>0</td>\n",
       "      <td>0</td>\n",
       "      <td>0</td>\n",
       "    </tr>\n",
       "    <tr>\n",
       "      <th>3</th>\n",
       "      <td>1582</td>\n",
       "      <td>2.00</td>\n",
       "      <td>1820</td>\n",
       "      <td>5000</td>\n",
       "      <td>1.5</td>\n",
       "      <td>0</td>\n",
       "      <td>1</td>\n",
       "      <td>3</td>\n",
       "      <td>7</td>\n",
       "      <td>1640</td>\n",
       "      <td>...</td>\n",
       "      <td>0</td>\n",
       "      <td>1</td>\n",
       "      <td>0</td>\n",
       "      <td>0</td>\n",
       "      <td>0</td>\n",
       "      <td>0</td>\n",
       "      <td>0</td>\n",
       "      <td>0</td>\n",
       "      <td>0</td>\n",
       "      <td>0</td>\n",
       "    </tr>\n",
       "    <tr>\n",
       "      <th>4</th>\n",
       "      <td>1582</td>\n",
       "      <td>1.75</td>\n",
       "      <td>1560</td>\n",
       "      <td>8700</td>\n",
       "      <td>1.0</td>\n",
       "      <td>0</td>\n",
       "      <td>0</td>\n",
       "      <td>4</td>\n",
       "      <td>7</td>\n",
       "      <td>1560</td>\n",
       "      <td>...</td>\n",
       "      <td>0</td>\n",
       "      <td>1</td>\n",
       "      <td>0</td>\n",
       "      <td>0</td>\n",
       "      <td>0</td>\n",
       "      <td>0</td>\n",
       "      <td>0</td>\n",
       "      <td>0</td>\n",
       "      <td>0</td>\n",
       "      <td>0</td>\n",
       "    </tr>\n",
       "    <tr>\n",
       "      <th>...</th>\n",
       "      <td>...</td>\n",
       "      <td>...</td>\n",
       "      <td>...</td>\n",
       "      <td>...</td>\n",
       "      <td>...</td>\n",
       "      <td>...</td>\n",
       "      <td>...</td>\n",
       "      <td>...</td>\n",
       "      <td>...</td>\n",
       "      <td>...</td>\n",
       "      <td>...</td>\n",
       "      <td>...</td>\n",
       "      <td>...</td>\n",
       "      <td>...</td>\n",
       "      <td>...</td>\n",
       "      <td>...</td>\n",
       "      <td>...</td>\n",
       "      <td>...</td>\n",
       "      <td>...</td>\n",
       "      <td>...</td>\n",
       "      <td>...</td>\n",
       "    </tr>\n",
       "    <tr>\n",
       "      <th>17275</th>\n",
       "      <td>1894</td>\n",
       "      <td>2.50</td>\n",
       "      <td>1921</td>\n",
       "      <td>4888</td>\n",
       "      <td>2.0</td>\n",
       "      <td>0</td>\n",
       "      <td>0</td>\n",
       "      <td>3</td>\n",
       "      <td>7</td>\n",
       "      <td>1921</td>\n",
       "      <td>...</td>\n",
       "      <td>0</td>\n",
       "      <td>1</td>\n",
       "      <td>0</td>\n",
       "      <td>0</td>\n",
       "      <td>0</td>\n",
       "      <td>0</td>\n",
       "      <td>0</td>\n",
       "      <td>0</td>\n",
       "      <td>0</td>\n",
       "      <td>0</td>\n",
       "    </tr>\n",
       "    <tr>\n",
       "      <th>17276</th>\n",
       "      <td>1894</td>\n",
       "      <td>2.50</td>\n",
       "      <td>1890</td>\n",
       "      <td>11036</td>\n",
       "      <td>1.0</td>\n",
       "      <td>0</td>\n",
       "      <td>0</td>\n",
       "      <td>3</td>\n",
       "      <td>8</td>\n",
       "      <td>1460</td>\n",
       "      <td>...</td>\n",
       "      <td>1</td>\n",
       "      <td>0</td>\n",
       "      <td>0</td>\n",
       "      <td>0</td>\n",
       "      <td>0</td>\n",
       "      <td>0</td>\n",
       "      <td>0</td>\n",
       "      <td>0</td>\n",
       "      <td>0</td>\n",
       "      <td>0</td>\n",
       "    </tr>\n",
       "    <tr>\n",
       "      <th>17277</th>\n",
       "      <td>1894</td>\n",
       "      <td>1.00</td>\n",
       "      <td>1380</td>\n",
       "      <td>10112</td>\n",
       "      <td>1.0</td>\n",
       "      <td>0</td>\n",
       "      <td>0</td>\n",
       "      <td>4</td>\n",
       "      <td>7</td>\n",
       "      <td>940</td>\n",
       "      <td>...</td>\n",
       "      <td>1</td>\n",
       "      <td>0</td>\n",
       "      <td>0</td>\n",
       "      <td>0</td>\n",
       "      <td>0</td>\n",
       "      <td>0</td>\n",
       "      <td>0</td>\n",
       "      <td>0</td>\n",
       "      <td>0</td>\n",
       "      <td>0</td>\n",
       "    </tr>\n",
       "    <tr>\n",
       "      <th>17278</th>\n",
       "      <td>1894</td>\n",
       "      <td>1.00</td>\n",
       "      <td>960</td>\n",
       "      <td>5000</td>\n",
       "      <td>1.0</td>\n",
       "      <td>0</td>\n",
       "      <td>0</td>\n",
       "      <td>3</td>\n",
       "      <td>6</td>\n",
       "      <td>960</td>\n",
       "      <td>...</td>\n",
       "      <td>0</td>\n",
       "      <td>0</td>\n",
       "      <td>0</td>\n",
       "      <td>0</td>\n",
       "      <td>0</td>\n",
       "      <td>0</td>\n",
       "      <td>0</td>\n",
       "      <td>0</td>\n",
       "      <td>0</td>\n",
       "      <td>0</td>\n",
       "    </tr>\n",
       "    <tr>\n",
       "      <th>17279</th>\n",
       "      <td>1894</td>\n",
       "      <td>2.25</td>\n",
       "      <td>2190</td>\n",
       "      <td>8188</td>\n",
       "      <td>2.0</td>\n",
       "      <td>0</td>\n",
       "      <td>0</td>\n",
       "      <td>3</td>\n",
       "      <td>8</td>\n",
       "      <td>1810</td>\n",
       "      <td>...</td>\n",
       "      <td>1</td>\n",
       "      <td>0</td>\n",
       "      <td>0</td>\n",
       "      <td>0</td>\n",
       "      <td>0</td>\n",
       "      <td>0</td>\n",
       "      <td>0</td>\n",
       "      <td>0</td>\n",
       "      <td>0</td>\n",
       "      <td>0</td>\n",
       "    </tr>\n",
       "  </tbody>\n",
       "</table>\n",
       "<p>17280 rows × 30 columns</p>\n",
       "</div>"
      ],
      "text/plain": [
       "       date  batchrooms_number  square_footage_home  square_footage_lot  \\\n",
       "0      1582               2.00                 1350                2560   \n",
       "1      1582               1.75                 1800               23103   \n",
       "2      1582               1.75                 2240               10578   \n",
       "3      1582               2.00                 1820                5000   \n",
       "4      1582               1.75                 1560                8700   \n",
       "...     ...                ...                  ...                 ...   \n",
       "17275  1894               2.50                 1921                4888   \n",
       "17276  1894               2.50                 1890               11036   \n",
       "17277  1894               1.00                 1380               10112   \n",
       "17278  1894               1.00                  960                5000   \n",
       "17279  1894               2.25                 2190                8188   \n",
       "\n",
       "       floors_number  has_waterfront  has_been_viewed  condition_quality  \\\n",
       "0                1.0               0                0                  3   \n",
       "1                1.0               0                0                  3   \n",
       "2                2.0               0                0                  5   \n",
       "3                1.5               0                1                  3   \n",
       "4                1.0               0                0                  4   \n",
       "...              ...             ...              ...                ...   \n",
       "17275            2.0               0                0                  3   \n",
       "17276            1.0               0                0                  3   \n",
       "17277            1.0               0                0                  4   \n",
       "17278            1.0               0                0                  3   \n",
       "17279            2.0               0                0                  3   \n",
       "\n",
       "       housing_unity_grade  square_footage_except_basement  ...  3  4  5  6  \\\n",
       "0                        8                            1350  ...  0  0  0  0   \n",
       "1                        7                            1800  ...  1  0  0  0   \n",
       "2                        8                            1550  ...  1  0  0  0   \n",
       "3                        7                            1640  ...  0  1  0  0   \n",
       "4                        7                            1560  ...  0  1  0  0   \n",
       "...                    ...                             ...  ... .. .. .. ..   \n",
       "17275                    7                            1921  ...  0  1  0  0   \n",
       "17276                    8                            1460  ...  1  0  0  0   \n",
       "17277                    7                             940  ...  1  0  0  0   \n",
       "17278                    6                             960  ...  0  0  0  0   \n",
       "17279                    8                            1810  ...  1  0  0  0   \n",
       "\n",
       "       7  8  9  10  11  33  \n",
       "0      0  0  0   0   0   0  \n",
       "1      0  0  0   0   0   0  \n",
       "2      0  0  0   0   0   0  \n",
       "3      0  0  0   0   0   0  \n",
       "4      0  0  0   0   0   0  \n",
       "...   .. .. ..  ..  ..  ..  \n",
       "17275  0  0  0   0   0   0  \n",
       "17276  0  0  0   0   0   0  \n",
       "17277  0  0  0   0   0   0  \n",
       "17278  0  0  0   0   0   0  \n",
       "17279  0  0  0   0   0   0  \n",
       "\n",
       "[17280 rows x 30 columns]"
      ]
     },
     "execution_count": 15,
     "metadata": {},
     "output_type": "execute_result"
    }
   ],
   "source": [
    "df"
   ]
  },
  {
   "cell_type": "code",
   "execution_count": 16,
   "metadata": {},
   "outputs": [],
   "source": [
    "X = df.values\n",
    "y = pd.read_csv('train_target.csv').price.values"
   ]
  },
  {
   "cell_type": "code",
   "execution_count": 17,
   "metadata": {},
   "outputs": [],
   "source": [
    "X_train, X_test, y_train, y_test = train_test_split(\n",
    "    X, y, test_size=0.3, random_state=317)"
   ]
  },
  {
   "cell_type": "code",
   "execution_count": 18,
   "metadata": {},
   "outputs": [
    {
     "data": {
      "text/plain": [
       "(12096, 5184)"
      ]
     },
     "execution_count": 18,
     "metadata": {},
     "output_type": "execute_result"
    }
   ],
   "source": [
    "X_train.shape[0], X_test.shape[0]"
   ]
  },
  {
   "cell_type": "markdown",
   "metadata": {},
   "source": [
    "### RF"
   ]
  },
  {
   "cell_type": "markdown",
   "metadata": {},
   "source": [
    "#### n_estimators"
   ]
  },
  {
   "cell_type": "code",
   "execution_count": 24,
   "metadata": {},
   "outputs": [
    {
     "name": "stdout",
     "output_type": "stream",
     "text": [
      "10 & 127.4665 & 3.837 \\\\ \\hline\n",
      "100 & 119.2506 & 3.917 \\\\ \\hline\n",
      "300 & 118.9167 & 12.211 \\\\ \\hline\n",
      "500 & 118.1341 & 19.736 \\\\ \\hline\n",
      "800 & 118.0323 & 32.271 \\\\ \\hline\n",
      "1000 & 117.8181 & 39.685 \\\\ \\hline\n",
      "2500 & 118.1271 & 98.544 \\\\ \\hline\n"
     ]
    }
   ],
   "source": [
    "for n_estimators in [10, 100, 300, 500, 800, 1000, 2500]:\n",
    "    start_time = time()\n",
    "    print(n_estimators, '&', np.round(root_mean_squared_error(y_test,\n",
    "                                                     RandomForestMSE(n_estimators,\n",
    "                                                                     max_depth=22,\n",
    "                                                                     feature_subsample_size=0.7).fit(X_train, y_train)[0].predict(X_test))[0], 4),\n",
    "          '&', np.round(time() - start_time, 3), '\\\\\\\\ \\hline')"
   ]
  },
  {
   "cell_type": "code",
   "execution_count": 25,
   "metadata": {},
   "outputs": [],
   "source": [
    "_, train_loss, test_loss = RandomForestMSE(n_estimators=2500,\n",
    "                                           max_depth=22,\n",
    "                                           feature_subsample_size=0.7).fit(X_train, y_train, X_test, y_test)"
   ]
  },
  {
   "cell_type": "code",
   "execution_count": 26,
   "metadata": {},
   "outputs": [
    {
     "data": {
      "text/plain": [
       "(array([118.33255359]), array([49.24225681]), 1676)"
      ]
     },
     "execution_count": 26,
     "metadata": {},
     "output_type": "execute_result"
    },
    {
     "data": {
      "image/png": "[encoded data removed]",
      "text/plain": [
       "<Figure size 1440x720 with 1 Axes>"
      ]
     },
     "metadata": {
      "needs_background": "light"
     },
     "output_type": "display_data"
    }
   ],
   "source": [
    "plot_results(train_loss, test_loss, 'rf_plot.png')"
   ]
  },
  {
   "cell_type": "markdown",
   "metadata": {},
   "source": [
    "#### dimension"
   ]
  },
  {
   "cell_type": "code",
   "execution_count": 27,
   "metadata": {},
   "outputs": [
    {
     "name": "stdout",
     "output_type": "stream",
     "text": [
      "0.1 & 138.6692 & 18.465 \\\\ \\hline\n",
      "0.3 & 122.7939 & 24.906 \\\\ \\hline\n",
      "0.5 & 118.9703 & 32.127 \\\\ \\hline\n",
      "0.7 & 118.7364 & 38.966 \\\\ \\hline\n",
      "0.8 & 118.298 & 43.305 \\\\ \\hline\n",
      "0.9 & 118.1342 & 46.988 \\\\ \\hline\n",
      "1 & 154.0329 & 15.142 \\\\ \\hline\n"
     ]
    }
   ],
   "source": [
    "for feature_subsample_size in [0.1, 0.3, 0.5, 0.7, 0.8, 0.9, 1]:\n",
    "    start_time = time()\n",
    "    print(feature_subsample_size, '&', np.round(root_mean_squared_error(y_test,\n",
    "                                                          RandomForestMSE(n_estimators=1000,\n",
    "                                                                          max_depth=22,\n",
    "                                                                          feature_subsample_size=feature_subsample_size).fit(X_train, y_train)[0].predict(X_test))[0], 4),\n",
    "          '&', np.round(time() - start_time, 3), '\\\\\\\\ \\hline')"
   ]
  },
  {
   "cell_type": "markdown",
   "metadata": {},
   "source": [
    "#### depth"
   ]
  },
  {
   "cell_type": "code",
   "execution_count": 28,
   "metadata": {},
   "outputs": [
    {
     "name": "stdout",
     "output_type": "stream",
     "text": [
      "3 & 197.2342 & 12.114 \\\\ \\hline\n",
      "5 & 160.297 & 15.795 \\\\ \\hline\n",
      "9 & 128.6512 & 21.223 \\\\ \\hline\n",
      "15 & 118.837 & 32.874 \\\\ \\hline\n",
      "22 & 118.4231 & 38.725 \\\\ \\hline\n",
      "27 & 118.3923 & 39.691 \\\\ \\hline\n",
      "32 & 117.8966 & 40.679 \\\\ \\hline\n",
      "40 & 118.4197 & 42.233 \\\\ \\hline\n",
      "50 & 118.2913 & 43.173 \\\\ \\hline\n",
      "None & 118.0025 & 43.905 \\\\ \\hline\n"
     ]
    }
   ],
   "source": [
    "for max_depth in [3, 5, 9, 15, 22, 27, 32, 40, 50, None]:\n",
    "    start_time = time()\n",
    "    print(max_depth, '&', np.round(root_mean_squared_error(y_test,\n",
    "                                             RandomForestMSE(n_estimators=1000,\n",
    "                                                             max_depth=max_depth,\n",
    "                                                             feature_subsample_size=0.7).fit(X_train, y_train)[0].predict(X_test))[0], 4),\n",
    "          '&', np.round(time() - start_time, 3), '\\\\\\\\ \\hline')"
   ]
  },
  {
   "cell_type": "markdown",
   "metadata": {},
   "source": [
    "### GBDT"
   ]
  },
  {
   "cell_type": "markdown",
   "metadata": {},
   "source": [
    "#### n_estimators"
   ]
  },
  {
   "cell_type": "code",
   "execution_count": 30,
   "metadata": {},
   "outputs": [
    {
     "name": "stdout",
     "output_type": "stream",
     "text": [
      "10 & 265.5242 & 0.607 \\\\ \\hline\n",
      "100 & 112.8786 & 6.327 \\\\ \\hline\n",
      "300 & 112.0387 & 17.743 \\\\ \\hline\n",
      "500 & 110.6598 & 28.611 \\\\ \\hline\n",
      "800 & 112.3461 & 43.275 \\\\ \\hline\n",
      "1000 & 111.4958 & 50.626 \\\\ \\hline\n",
      "2500 & 111.66 & 123.285 \\\\ \\hline\n"
     ]
    }
   ],
   "source": [
    "for n_estimators in [10, 100, 300, 500, 800, 1000, 2500]:\n",
    "    start_time = time()\n",
    "    print(n_estimators, '&', np.round(root_mean_squared_error(y_test, GradientBoostingMSE(n_estimators,\n",
    "                                                                            max_depth=6,\n",
    "                                                                            feature_subsample_size=0.7,\n",
    "                                                                            learning_rate=0.1).fit(X_train, y_train)[0].predict(X_test))[0], 4),\n",
    "          '&', np.round(time() - start_time, 3), '\\\\\\\\ \\hline')"
   ]
  },
  {
   "cell_type": "code",
   "execution_count": 31,
   "metadata": {},
   "outputs": [],
   "source": [
    "_, train_loss, test_loss = GradientBoostingMSE(n_estimators=2500,\n",
    "                                               max_depth=6,\n",
    "                                               feature_subsample_size=0.7,\n",
    "                                               learning_rate=0.1).fit(X_train, y_train, X_test, y_test)"
   ]
  },
  {
   "cell_type": "code",
   "execution_count": 32,
   "metadata": {},
   "outputs": [
    {
     "data": {
      "text/plain": [
       "(array([108.17715421]), array([29.05285768]), 625)"
      ]
     },
     "execution_count": 32,
     "metadata": {},
     "output_type": "execute_result"
    },
    {
     "data": {
      "image/png": "[encoded data removed]",
      "text/plain": [
       "<Figure size 1440x720 with 1 Axes>"
      ]
     },
     "metadata": {
      "needs_background": "light"
     },
     "output_type": "display_data"
    }
   ],
   "source": [
    "plot_results(train_loss, test_loss, 'gb_plot.png')"
   ]
  },
  {
   "cell_type": "markdown",
   "metadata": {},
   "source": [
    "#### dimension"
   ]
  },
  {
   "cell_type": "code",
   "execution_count": 33,
   "metadata": {},
   "outputs": [
    {
     "name": "stdout",
     "output_type": "stream",
     "text": [
      "0.1 & 122.6883 & 14.745 \\\\ \\hline\n",
      "0.3 & 108.8641 & 24.897 \\\\ \\hline\n",
      "0.5 & 110.7159 & 35.6 \\\\ \\hline\n",
      "0.7 & 109.8719 & 47.492 \\\\ \\hline\n",
      "0.8 & 110.8404 & 52.486 \\\\ \\hline\n",
      "0.9 & 110.6577 & 58.807 \\\\ \\hline\n",
      "1 & 128.2873 & 9.73 \\\\ \\hline\n"
     ]
    }
   ],
   "source": [
    "for feature_subsample_size in [0.1, 0.3, 0.5, 0.7, 0.8, 0.9, 1]:\n",
    "    start_time = time()\n",
    "    print(feature_subsample_size, '&', np.round(root_mean_squared_error(y_test,\n",
    "                                                          GradientBoostingMSE(n_estimators=1000,\n",
    "                                                                              max_depth=6,\n",
    "                                                                              feature_subsample_size=feature_subsample_size,\n",
    "                                                                              learning_rate=0.1).fit(X_train, y_train)[0].predict(X_test))[0], 4),\n",
    "          '&', np.round(time() - start_time, 3), '\\\\\\\\ \\hline')"
   ]
  },
  {
   "cell_type": "markdown",
   "metadata": {},
   "source": [
    "#### depth"
   ]
  },
  {
   "cell_type": "code",
   "execution_count": 34,
   "metadata": {},
   "outputs": [
    {
     "name": "stdout",
     "output_type": "stream",
     "text": [
      "3 & 110.7048 & 28.193 \\\\ \\hline\n",
      "5 & 108.8505 & 40.94 \\\\ \\hline\n",
      "9 & 115.7349 & 68.817 \\\\ \\hline\n",
      "15 & 121.3925 & 106.287 \\\\ \\hline\n",
      "22 & 123.2503 & 125.441 \\\\ \\hline\n",
      "27 & 123.0779 & 125.589 \\\\ \\hline\n",
      "32 & 123.7637 & 126.333 \\\\ \\hline\n",
      "40 & 122.4359 & 124.326 \\\\ \\hline\n",
      "50 & 123.1098 & 119.9 \\\\ \\hline\n",
      "None & 123.5908 & 122.479 \\\\ \\hline\n"
     ]
    }
   ],
   "source": [
    "for max_depth in [3, 5, 9, 15, 22, 27, 32, 40, 50, None]:\n",
    "    start_time = time()\n",
    "    print(max_depth, '&', np.round(root_mean_squared_error(y_test,\n",
    "                                             GradientBoostingMSE(n_estimators=1000,\n",
    "                                                                 max_depth=max_depth,\n",
    "                                                                 feature_subsample_size=0.7,\n",
    "                                                                 learning_rate=0.1).fit(X_train, y_train)[0].predict(X_test))[0], 4),\n",
    "          '&', np.round(time() - start_time, 3), '\\\\\\\\ \\hline')"
   ]
  },
  {
   "cell_type": "markdown",
   "metadata": {},
   "source": [
    "#### learning rate"
   ]
  },
  {
   "cell_type": "code",
   "execution_count": 36,
   "metadata": {},
   "outputs": [
    {
     "name": "stdout",
     "output_type": "stream",
     "text": [
      "0.001 & 275.9895 & 46.942 \\\\ \\hline\n",
      "0.01 & 111.6654 & 49.603 \\\\ \\hline\n",
      "0.05 & 109.4831 & 50.18 \\\\ \\hline\n",
      "0.1 & 111.1591 & 50.582 \\\\ \\hline\n",
      "0.5 & 129.2203 & 49.699 \\\\ \\hline\n",
      "1 & 177.6525 & 48.862 \\\\ \\hline\n"
     ]
    }
   ],
   "source": [
    "for lr in [0.001, 0.01, 0.05, 0.1, 0.5, 1]:\n",
    "    start_time = time()\n",
    "    print(lr, '&', np.round(root_mean_squared_error(y_test,\n",
    "                                      GradientBoostingMSE(n_estimators=1000,\n",
    "                                                          max_depth=6,\n",
    "                                                          feature_subsample_size=0.7,\n",
    "                                                          learning_rate=lr).fit(X_train, y_train)[0].predict(X_test))[0], 4),\n",
    "          '&', np.round(time() - start_time, 3), '\\\\\\\\ \\hline')"
   ]
  }
 ],
 "metadata": {
  "kernelspec": {
   "display_name": "Python 3",
   "language": "python",
   "name": "python3"
  },
  "language_info": {
   "codemirror_mode": {
    "name": "ipython",
    "version": 3
   },
   "file_extension": ".py",
   "mimetype": "text/x-python",
   "name": "python",
   "nbconvert_exporter": "python",
   "pygments_lexer": "ipython3",
   "version": "3.8.5"
  }
 },
 "nbformat": 4,
 "nbformat_minor": 2
}
